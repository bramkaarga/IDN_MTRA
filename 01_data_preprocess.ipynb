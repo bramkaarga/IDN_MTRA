{
 "cells": [
  {
   "cell_type": "code",
   "execution_count": 2,
   "metadata": {
    "collapsed": true
   },
   "outputs": [],
   "source": [
    "from gmtra import fetch\n",
    "from gmtra import utils\n",
    "from gmtra import hazard\n",
    "\n",
    "import matplotlib.pyplot as plt\n",
    "import geopandas as gpd\n",
    "import pandas as pd\n",
    "import tqdm\n",
    "%matplotlib inline"
   ]
  },
  {
   "cell_type": "markdown",
   "metadata": {},
   "source": [
    "### Road network data preparation"
   ]
  },
  {
   "cell_type": "code",
   "execution_count": 4,
   "metadata": {
    "collapsed": true
   },
   "outputs": [],
   "source": [
    "data_path = \"C:\\\\Users\\\\path to OSM's .osm.pbf file\"\n",
    "country = 'indonesia'\n",
    "\n",
    "roads_gdf = fetch.roads(data_path, country)"
   ]
  },
  {
   "cell_type": "code",
   "execution_count": 38,
   "metadata": {
    "collapsed": true
   },
   "outputs": [],
   "source": [
    "roads_gdf['length'] = roads_gdf.geometry.apply(utils.line_length)"
   ]
  },
  {
   "cell_type": "code",
   "execution_count": 40,
   "metadata": {
    "collapsed": true
   },
   "outputs": [],
   "source": [
    "roads_gdf.geometry = roads_gdf.geometry.simplify(tolerance=0.5)"
   ]
  },
  {
   "cell_type": "code",
   "execution_count": 42,
   "metadata": {
    "collapsed": true
   },
   "outputs": [],
   "source": [
    "road_dict = utils.map_roads()"
   ]
  },
  {
   "cell_type": "code",
   "execution_count": 43,
   "metadata": {
    "collapsed": true
   },
   "outputs": [],
   "source": [
    "roads_gdf['road_type'] = roads_gdf.infra_type.apply(lambda x: road_dict[x])"
   ]
  },
  {
   "cell_type": "code",
   "execution_count": 6,
   "metadata": {
    "collapsed": true
   },
   "outputs": [],
   "source": [
    "#take into account only primary and secondary roads\n",
    "roads_gdf = roads_gdf.loc[roads_gdf['road_type'].isin(['primary', 'secondary'])]"
   ]
  },
  {
   "cell_type": "code",
   "execution_count": 46,
   "metadata": {},
   "outputs": [
    {
     "data": {
      "text/plain": [
       "<matplotlib.axes._subplots.AxesSubplot at 0x1ee1ea8de48>"
      ]
     },
     "execution_count": 46,
     "metadata": {},
     "output_type": "execute_result"
    },
    {
     "data": {
      "image/png": "[encoded data removed]",
      "text/plain": [
       "<Figure size 432x288 with 1 Axes>"
      ]
     },
     "metadata": {
      "needs_background": "light"
     },
     "output_type": "display_data"
    }
   ],
   "source": [
    "roads_gdf.plot()"
   ]
  },
  {
   "cell_type": "code",
   "execution_count": 44,
   "metadata": {
    "collapsed": true
   },
   "outputs": [],
   "source": [
    "roads_gdf.to_file('osmconvert/country_osm/idn_roads_mod1.shp')"
   ]
  },
  {
   "cell_type": "markdown",
   "metadata": {},
   "source": [
    "### Functions to polygonize hazard rasters and to overlay hazard maps with road networks"
   ]
  },
  {
   "cell_type": "code",
   "execution_count": 3,
   "metadata": {
    "collapsed": true
   },
   "outputs": [],
   "source": [
    "import rasterio\n",
    "from rasterio.mask import mask\n",
    "from rasterio.features import shapes\n",
    "from shapely.geometry import mapping\n",
    "import numpy as np\n",
    "\n",
    "def single_polygonized(flood_path,flood_scen,adm_boundary):\n",
    "    \"\"\"\n",
    "    modified from:\n",
    "    https://github.com/ElcoK/gmtra/blob/master/gmtra/hazard.py\n",
    "    \"\"\"\n",
    "    \n",
    "    geometry = adm_boundary['geometry'].iloc[0]\n",
    "    geoms = [mapping(geometry)]\n",
    "    \n",
    "    # load hazard map with rasterio and clip it to the area we are interested in.\n",
    "    with rasterio.open(flood_path) as src:\n",
    "        out_image, out_transform = mask(src, geoms, crop=True)\n",
    "\n",
    "        # change points in waterbodies and zeros to -1, so we can easily remove it from the dataset\n",
    "        out_image = np.round(out_image,1)\n",
    "        \n",
    "        # change to centimeters and integers, substantially reduces the size.\n",
    "        out_image = np.array(out_image,dtype='int32')\n",
    "\n",
    "        # the actual polygonization of the raster map\n",
    "        results = (\n",
    "            {'properties': {'raster_val': v}, 'geometry': s}\n",
    "            for i, (s, v)\n",
    "            in enumerate(\n",
    "            shapes(out_image[0,:,:], mask=None, transform=out_transform)))\n",
    "\n",
    "        # and save to a new geopandas GeoDataFrame\n",
    "        gdf = gpd.GeoDataFrame.from_features(list(results),crs='epsg:4326')\n",
    "        gdf = gdf.loc[gdf.raster_val > 25] #gdf.loc[gdf.raster_val > 0] for flood\n",
    "        gdf['geometry'] = gdf.buffer(0) #gdf.buffer(0.00025) for flood\n",
    "        gdf['hazard'] = flood_scen\n",
    "    \n",
    "    return gdf"
   ]
  },
  {
   "cell_type": "code",
   "execution_count": 15,
   "metadata": {
    "collapsed": true
   },
   "outputs": [],
   "source": [
    "def road_exposure(road_gdf, hzd_region2, hzd_name):\n",
    "    \n",
    "    infra_gpd = road_gdf.copy()\n",
    "    hzd_region = hzd_region2.copy()\n",
    "    \n",
    "    # now lets intersect the hazard with the ifnrastructure asset and \n",
    "    #get the hazard values and intersection lengths for each asset.\n",
    "    hzd_reg_sindex = hzd_region.sindex\n",
    "    tqdm.tqdm.pandas(desc=hzd_name+'_indonesia') \n",
    "    inb = infra_gpd.progress_apply(lambda x: hazard.intersect_hazard(x,hzd_reg_sindex,hzd_region),axis=1).copy()\n",
    "    inb = inb.apply(pd.Series)\n",
    "    inb.columns = ['geometry','val_{}'.format(hzd_name)]\n",
    "    inb['length_{}'.format(hzd_name)] = inb.geometry.apply(utils.line_length)\n",
    "    \n",
    "    # and at the results to the dataframe with all the infrastructure assets.\n",
    "    infra_gpd[['length_{}'.format(hzd_name),'val_{}'.format(hzd_name)]] = inb[['length_{}'.format(hzd_name),\n",
    "                                                                               'val_{}'.format(hzd_name)]]\n",
    "    \n",
    "    return infra_gpd"
   ]
  },
  {
   "cell_type": "markdown",
   "metadata": {},
   "source": [
    "### 100-yr riverine flood"
   ]
  },
  {
   "cell_type": "code",
   "execution_count": 4,
   "metadata": {},
   "outputs": [
    {
     "name": "stderr",
     "output_type": "stream",
     "text": [
      "C:\\Users\\bjafino\\anaconda3\\envs\\GMTRA\\lib\\site-packages\\numpy\\core\\fromnumeric.py:56: RuntimeWarning: overflow encountered in multiply\n",
      "  return getattr(obj, method)(*args, **kwds)\n"
     ]
    }
   ],
   "source": [
    "flood_path = 'hazard_data/Hazard_IDN__100.grd'\n",
    "adm_boundary = gpd.read_file('osmconvert/adm_boundary/IDN_adm0.shp')\n",
    "flood_scen = 'flood_100yr'\n",
    "\n",
    "flood_100_gdf = single_polygonized(flood_path,flood_scen,adm_boundary)"
   ]
  },
  {
   "cell_type": "code",
   "execution_count": 5,
   "metadata": {},
   "outputs": [],
   "source": [
    "hzd_region = flood_100_gdf.copy()\n",
    "hzd_region.reset_index(inplace=True,drop=True)"
   ]
  },
  {
   "cell_type": "code",
   "execution_count": 37,
   "metadata": {
    "collapsed": true
   },
   "outputs": [],
   "source": [
    "hzd_name = 'flood_100yr'"
   ]
  },
  {
   "cell_type": "code",
   "execution_count": 41,
   "metadata": {
    "scrolled": true
   },
   "outputs": [
    {
     "name": "stderr",
     "output_type": "stream",
     "text": [
      "flood_100yr_indonesia: 100%|████████████████████████████████████████████████████| 87235/87235 [02:32<00:00, 573.37it/s]\n"
     ]
    }
   ],
   "source": [
    "hzd_name = 'flood_100yr'\n",
    "roads_exposed_gdf = road_exposure(roads_gdf, hzd_region, hzd_name)"
   ]
  },
  {
   "cell_type": "code",
   "execution_count": 42,
   "metadata": {
    "collapsed": true
   },
   "outputs": [],
   "source": [
    "roads_exposed_gdf = roads_exposed_gdf.loc[roads_exposed_gdf['val_flood_100yr']>0]"
   ]
  },
  {
   "cell_type": "code",
   "execution_count": 44,
   "metadata": {
    "collapsed": true
   },
   "outputs": [],
   "source": [
    "roads_exposed_gdf.to_file('osmconvert/hazard_intersect/road_flood_100yr.shp')"
   ]
  },
  {
   "cell_type": "code",
   "execution_count": 45,
   "metadata": {},
   "outputs": [
    {
     "data": {
      "text/plain": [
       "<matplotlib.axes._subplots.AxesSubplot at 0x1ee02a75208>"
      ]
     },
     "execution_count": 45,
     "metadata": {},
     "output_type": "execute_result"
    },
    {
     "data": {
      "image/png": "[encoded data removed]",
      "text/plain": [
       "<Figure size 432x288 with 1 Axes>"
      ]
     },
     "metadata": {
      "needs_background": "light"
     },
     "output_type": "display_data"
    }
   ],
   "source": [
    "roads_exposed_gdf.plot()"
   ]
  },
  {
   "cell_type": "markdown",
   "metadata": {},
   "source": [
    "### 1000-yr riverine flood"
   ]
  },
  {
   "cell_type": "code",
   "execution_count": 48,
   "metadata": {
    "collapsed": true,
    "scrolled": true
   },
   "outputs": [],
   "source": [
    "flood_path = 'hazard_data/Hazard_IDN__1000.grd'\n",
    "adm_boundary = gpd.read_file('osmconvert/adm_boundary/IDN_adm0.shp')\n",
    "flood_scen = 'flood_1000yr'\n",
    "\n",
    "flood_1000_gdf = single_polygonized(flood_path,flood_scen,adm_boundary)"
   ]
  },
  {
   "cell_type": "code",
   "execution_count": 49,
   "metadata": {},
   "outputs": [
    {
     "data": {
      "text/plain": [
       "<matplotlib.axes._subplots.AxesSubplot at 0x1ee5bbbbda0>"
      ]
     },
     "execution_count": 49,
     "metadata": {},
     "output_type": "execute_result"
    },
    {
     "data": {
      "image/png": "[encoded data removed]",
      "text/plain": [
       "<Figure size 432x288 with 1 Axes>"
      ]
     },
     "metadata": {
      "needs_background": "light"
     },
     "output_type": "display_data"
    }
   ],
   "source": [
    "flood_1000_gdf.plot()"
   ]
  },
  {
   "cell_type": "code",
   "execution_count": 50,
   "metadata": {
    "collapsed": true
   },
   "outputs": [],
   "source": [
    "hzd_region = flood_1000_gdf.copy()\n",
    "hzd_region.reset_index(inplace=True,drop=True)"
   ]
  },
  {
   "cell_type": "code",
   "execution_count": 51,
   "metadata": {
    "scrolled": true
   },
   "outputs": [
    {
     "name": "stderr",
     "output_type": "stream",
     "text": [
      "flood_1000yr_indonesia: 100%|███████████████████████████████████████████████████| 87235/87235 [02:42<00:00, 538.39it/s]\n"
     ]
    }
   ],
   "source": [
    "hzd_name = 'flood_1000yr'\n",
    "roads_exposed_gdf = road_exposure(roads_gdf, hzd_region, hzd_name)"
   ]
  },
  {
   "cell_type": "code",
   "execution_count": 52,
   "metadata": {
    "collapsed": true
   },
   "outputs": [],
   "source": [
    "roads_exposed_gdf = roads_exposed_gdf.loc[roads_exposed_gdf['val_flood_1000yr']>0]"
   ]
  },
  {
   "cell_type": "code",
   "execution_count": 54,
   "metadata": {
    "collapsed": true
   },
   "outputs": [],
   "source": [
    "roads_exposed_gdf.to_file('osmconvert/hazard_intersect/road_flood_1000yr.shp')"
   ]
  },
  {
   "cell_type": "markdown",
   "metadata": {},
   "source": [
    "### 250-yr earthquakes"
   ]
  },
  {
   "cell_type": "code",
   "execution_count": 44,
   "metadata": {
    "collapsed": true
   },
   "outputs": [],
   "source": [
    "flood_path = 'hazard_data/Seismic hazard_PGA_RT250years.grd'\n",
    "adm_boundary = gpd.read_file('osmconvert/adm_boundary/IDN_adm0.shp')\n",
    "flood_scen = 'PGA_250yr'\n",
    "\n",
    "pga_250_gdf = single_polygonized(flood_path,flood_scen,adm_boundary)"
   ]
  },
  {
   "cell_type": "code",
   "execution_count": 45,
   "metadata": {},
   "outputs": [
    {
     "data": {
      "text/plain": [
       "<matplotlib.axes._subplots.AxesSubplot at 0x25a9cc73e80>"
      ]
     },
     "execution_count": 45,
     "metadata": {},
     "output_type": "execute_result"
    },
    {
     "data": {
      "image/png": "[encoded data removed]",
      "text/plain": [
       "<Figure size 432x288 with 1 Axes>"
      ]
     },
     "metadata": {
      "needs_background": "light"
     },
     "output_type": "display_data"
    }
   ],
   "source": [
    "pga_250_gdf.plot()"
   ]
  },
  {
   "cell_type": "code",
   "execution_count": 46,
   "metadata": {
    "collapsed": true
   },
   "outputs": [],
   "source": [
    "hzd_region = pga_250_gdf.copy()\n",
    "hzd_region.reset_index(inplace=True,drop=True)"
   ]
  },
  {
   "cell_type": "code",
   "execution_count": 47,
   "metadata": {},
   "outputs": [
    {
     "name": "stderr",
     "output_type": "stream",
     "text": [
      "pga_250yr_indonesia: 100%|██████████████████████████████████████████████████████| 87235/87235 [04:52<00:00, 277.93it/s]\n"
     ]
    }
   ],
   "source": [
    "hzd_name = 'pga_250yr'\n",
    "roads_exposed_gdf = road_exposure(roads_gdf, hzd_region, hzd_name)"
   ]
  },
  {
   "cell_type": "code",
   "execution_count": 48,
   "metadata": {
    "collapsed": true
   },
   "outputs": [],
   "source": [
    "roads_exposed_gdf = roads_exposed_gdf.loc[roads_exposed_gdf['val_pga_250yr']>0]"
   ]
  },
  {
   "cell_type": "code",
   "execution_count": 50,
   "metadata": {
    "collapsed": true
   },
   "outputs": [],
   "source": [
    "roads_exposed_gdf.to_file('osmconvert/hazard_intersect/road_pga_250yr.shp')"
   ]
  },
  {
   "cell_type": "markdown",
   "metadata": {},
   "source": [
    "### 2475-yr earthquakes"
   ]
  },
  {
   "cell_type": "code",
   "execution_count": 51,
   "metadata": {
    "collapsed": true
   },
   "outputs": [],
   "source": [
    "flood_path = 'hazard_data/Seismic hazard_PGA_RT2475years.grd'\n",
    "adm_boundary = gpd.read_file('osmconvert/adm_boundary/IDN_adm0.shp')\n",
    "flood_scen = 'PGA_2475yr'\n",
    "\n",
    "pga_2475_gdf = single_polygonized(flood_path,flood_scen,adm_boundary)"
   ]
  },
  {
   "cell_type": "code",
   "execution_count": 52,
   "metadata": {},
   "outputs": [
    {
     "data": {
      "text/plain": [
       "<matplotlib.axes._subplots.AxesSubplot at 0x25aa7bb4b38>"
      ]
     },
     "execution_count": 52,
     "metadata": {},
     "output_type": "execute_result"
    },
    {
     "data": {
      "image/png": "[encoded data removed]",
      "text/plain": [
       "<Figure size 432x288 with 1 Axes>"
      ]
     },
     "metadata": {
      "needs_background": "light"
     },
     "output_type": "display_data"
    }
   ],
   "source": [
    "pga_2475_gdf.plot()"
   ]
  },
  {
   "cell_type": "code",
   "execution_count": 53,
   "metadata": {
    "collapsed": true
   },
   "outputs": [],
   "source": [
    "hzd_region = pga_2475_gdf.copy()\n",
    "hzd_region.reset_index(inplace=True,drop=True)"
   ]
  },
  {
   "cell_type": "code",
   "execution_count": 54,
   "metadata": {
    "scrolled": true
   },
   "outputs": [
    {
     "name": "stderr",
     "output_type": "stream",
     "text": [
      "pga_2475yr_indonesia: 100%|█████████████████████████████████████████████████████| 87235/87235 [04:57<00:00, 293.33it/s]\n"
     ]
    }
   ],
   "source": [
    "hzd_name = 'pga_2475yr'\n",
    "roads_exposed_gdf = road_exposure(roads_gdf, hzd_region, hzd_name)"
   ]
  },
  {
   "cell_type": "code",
   "execution_count": 55,
   "metadata": {
    "collapsed": true
   },
   "outputs": [],
   "source": [
    "roads_exposed_gdf = roads_exposed_gdf.loc[roads_exposed_gdf['val_pga_2475yr']>0]"
   ]
  },
  {
   "cell_type": "code",
   "execution_count": 57,
   "metadata": {
    "collapsed": true
   },
   "outputs": [],
   "source": [
    "roads_exposed_gdf.to_file('osmconvert/hazard_intersect/road_pga_2475yr.shp')"
   ]
  }
 ],
 "metadata": {
  "kernelspec": {
   "display_name": "Python [conda env:GMTRA]",
   "language": "python",
   "name": "conda-env-GMTRA-py"
  },
  "language_info": {
   "codemirror_mode": {
    "name": "ipython",
    "version": 3
   },
   "file_extension": ".py",
   "mimetype": "text/x-python",
   "name": "python",
   "nbconvert_exporter": "python",
   "pygments_lexer": "ipython3",
   "version": "3.6.7"
  }
 },
 "nbformat": 4,
 "nbformat_minor": 2
}
